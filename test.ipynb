{
 "cells": [
  {
   "cell_type": "code",
   "execution_count": 4,
   "metadata": {},
   "outputs": [
    {
     "name": "stdout",
     "output_type": "stream",
     "text": [
      "using cpu!\n",
      "device: cpu\n"
     ]
    }
   ],
   "source": [
    "import gym \n",
    "import torch\n",
    "import torch.nn as nn\n",
    "import torch.nn.functional as F\n",
    "from torch.distributions import Categorical, Normal\n",
    "import time\n",
    "import numpy as np\n",
    "\n",
    "from policy_gradients import PolicyGradients, Policy\n",
    "\n",
    "device = torch.device(\"cuda:0\" if torch.cuda.is_available() else \"cpu\")\n",
    "print(f'device: {device}')\n",
    "\n",
    "#env = gym.make('Pendulum-v1')\n",
    "env = gym.make('CartPole-v1')\n",
    "\n",
    "continuous_control = isinstance(env.action_space, gym.spaces.Box)\n",
    "dim_states = env.observation_space.shape[0]\n",
    "dim_actions = env.action_space.shape[0] if continuous_control else env.action_space.n"
   ]
  },
  {
   "cell_type": "code",
   "execution_count": 5,
   "metadata": {},
   "outputs": [
    {
     "data": {
      "text/plain": [
       "(array([[ 0.03822616, -0.1836455 ,  0.01824644,  0.3301227 ],\n",
       "        [ 0.03455325,  0.01121202,  0.0248489 ,  0.04324923],\n",
       "        [ 0.03477749, -0.18425728,  0.02571388,  0.34366748],\n",
       "        [ 0.03109234,  0.0104896 ,  0.03258723,  0.05920279],\n",
       "        [ 0.03130214,  0.20512952,  0.03377129, -0.22302315],\n",
       "        [ 0.03540472,  0.39975291,  0.02931082, -0.50486493],\n",
       "        [ 0.04339978,  0.5944498 ,  0.01921353, -0.78816867],\n",
       "        [ 0.05528878,  0.39906928,  0.00345015, -0.48950353],\n",
       "        [ 0.06327017,  0.20389883, -0.00633992, -0.19573525],\n",
       "        [ 0.06734814,  0.00886814, -0.01025462,  0.09494098],\n",
       "        [ 0.06752551,  0.20413555, -0.0083558 , -0.20095955],\n",
       "        [ 0.07160822,  0.399376  , -0.01237499, -0.49626657],\n",
       "        [ 0.07959574,  0.59467024, -0.02230033, -0.7928237 ],\n",
       "        [ 0.09148914,  0.79009116, -0.0381568 , -1.0924379 ],\n",
       "        [ 0.10729096,  0.9856945 , -0.06000556, -1.3968447 ],\n",
       "        [ 0.12700486,  1.1815093 , -0.08794245, -1.7076694 ],\n",
       "        [ 0.15063503,  0.98750174, -0.12209584, -1.4436044 ],\n",
       "        [ 0.17038508,  0.7940758 , -0.15096793, -1.1914324 ],\n",
       "        [ 0.18626659,  0.9907962 , -0.17479657, -1.527373  ],\n",
       "        [ 0.20608251,  1.187543  , -0.20534404, -1.869125  ],\n",
       "        [ 0.22983338,  0.99517417, -0.24272653, -1.6465818 ]],\n",
       "       dtype=float32),\n",
       " array([0, 1, 0, 1, 1, 1, 1, 0, 0, 0, 1, 1, 1, 1, 1, 1, 0, 0, 1, 1, 0]),\n",
       " array([1., 1., 1., 1., 1., 1., 1., 1., 1., 1., 1., 1., 1., 1., 1., 1., 1.,\n",
       "        1., 1., 1., 1.]))"
      ]
     },
     "execution_count": 5,
     "metadata": {},
     "output_type": "execute_result"
    }
   ],
   "source": [
    "def perform_single_rollout(env, agent, episode_nb, render=False):\n",
    "\n",
    "    # Modify this function to return a tuple of numpy arrays containing (observations, actions, rewards).\n",
    "    # (np.array(obs), np.array(acs), np.array(rws))\n",
    "    # np.array(obs) -> shape: (time_steps, nb_obs)\n",
    "    # np.array(acs) -> shape: (time_steps, nb_acs) if actions are continuous, (time_steps,) if actions are discrete\n",
    "    # np.array(rws) -> shape: (time_steps,)\n",
    "\n",
    "    ob_t = env.reset()\n",
    "    \n",
    "    done = False\n",
    "    episode_reward = 0\n",
    "    nb_steps = 0\n",
    "    \n",
    "    obs, acs, rws = [], [], []\n",
    "\n",
    "    while not done:\n",
    "\n",
    "        if render:\n",
    "            env.render()\n",
    "            time.sleep(1. / 60)\n",
    "\n",
    "        action = agent.select_action(ob_t) # cambiar a que solo reciba la accion?\n",
    "\n",
    "        ob_t1, reward, done, _ = env.step(action)\n",
    "\n",
    "        ob_t = np.squeeze(ob_t1) # <-- may not be needed depending on gym version\n",
    "        episode_reward += reward\n",
    "        \n",
    "        nb_steps += 1\n",
    "\n",
    "        obs.append(ob_t)\n",
    "        acs.append(action)\n",
    "        rws.append(reward)\n",
    "\n",
    "        if done:\n",
    "            \n",
    "            obs = np.array(obs)\n",
    "            acs = np.array(acs)\n",
    "            rws = np.array(rws)\n",
    "            \n",
    "            assert obs.shape == (nb_steps, dim_states), 'shape of np.array(obs) is not (time_steps, nb_obs)'\n",
    "            if continuous_control:\n",
    "                assert acs.shape == (nb_steps, dim_actions), 'shape of np.array(acs) is not (time_steps, nb_acs)'\n",
    "            else:\n",
    "                assert acs.shape == (nb_steps,), 'shape of np.array(acs) is not (time_steps,)'\n",
    "            assert rws.shape == (nb_steps,), 'shape of np.array(rws) is not (time_steps,)'\n",
    "            \n",
    "            return obs, acs, rws\n",
    "        \n",
    "        \n",
    "#env = gym.make('Pendulum-v1')\n",
    "env = gym.make('CartPole-v1')\n",
    "continuous_control = isinstance(env.action_space, gym.spaces.Box)\n",
    "dim_states = env.observation_space.shape[0]\n",
    "dim_actions = env.action_space.shape[0] if continuous_control else env.action_space.n\n",
    "\n",
    "agent = PolicyGradients(dim_states = dim_states, dim_actions = dim_actions, lr = 1e-3, gamma = .99, \n",
    "                        continuous_control = continuous_control)\n",
    "\n",
    "perform_single_rollout(env, agent, 1)"
   ]
  },
  {
   "cell_type": "code",
   "execution_count": 8,
   "metadata": {},
   "outputs": [],
   "source": [
    "def sample_rollouts(env, agent, training_iter, min_batch_steps):\n",
    "\n",
    "    sampled_rollouts = []\n",
    "    total_nb_steps = 0\n",
    "    episode_nb = 0\n",
    "    \n",
    "    while total_nb_steps < min_batch_steps:\n",
    "\n",
    "        episode_nb += 1\n",
    "        #render = training_iter%10 == 0 and len(sampled_rollouts) == 0 # Change training_iter%10 to any number you want\n",
    "        render = False\n",
    "\n",
    "        # Use perform_single_rollout to get data \n",
    "        # Uncomment once perform_single_rollout works.\n",
    "        # Return sampled_rollouts\n",
    "        \n",
    "        \"\"\"\n",
    "        sample_rollout = perform_single_rollout(env, agent, episode_nb, render=render)\n",
    "        total_nb_steps += len(sample_rollout[0])\n",
    "\n",
    "        sampled_rollouts.append(sample_rollout)\n",
    "        \"\"\"\n",
    "        \n",
    "        sample_rollout = perform_single_rollout(env, agent, episode_nb, render=render)\n",
    "        total_nb_steps += len(sample_rollout[0])\n",
    "\n",
    "        sampled_rollouts.append(sample_rollout)\n",
    "        \n",
    "    return sampled_rollouts"
   ]
  },
  {
   "cell_type": "code",
   "execution_count": 9,
   "metadata": {},
   "outputs": [],
   "source": [
    "_use_reward_to_go = False\n",
    "_use_baseline = False\n",
    "_gamma = 0.99\n",
    "\n",
    "def estimate_returns(rollouts_rew):\n",
    "    estimated_returns = []\n",
    "    for rollout_rew in rollouts_rew:\n",
    "            \n",
    "        if _use_reward_to_go:\n",
    "            # only for part 2\n",
    "            estimated_return = None\n",
    "        else:\n",
    "            estimated_return = [rollout_rew[t] * (_gamma ** t) for t in range(len(rollout_rew))]\n",
    "        \n",
    "        estimated_returns = np.concatenate([estimated_returns, estimated_return])\n",
    "\n",
    "    if _use_baseline:\n",
    "        # only for part 2\n",
    "        average_return_baseline = None\n",
    "        # Use the baseline:\n",
    "        #estimated_returns -= average_return_baseline\n",
    "\n",
    "    return np.array(estimated_returns, dtype=np.float32)"
   ]
  },
  {
   "cell_type": "code",
   "execution_count": 10,
   "metadata": {},
   "outputs": [
    {
     "data": {
      "text/plain": [
       "(5029,)"
      ]
     },
     "execution_count": 10,
     "metadata": {},
     "output_type": "execute_result"
    }
   ],
   "source": [
    "#env = gym.make('Pendulum-v1')\n",
    "env = gym.make('CartPole-v1')\n",
    "continuous_control = isinstance(env.action_space, gym.spaces.Box)\n",
    "dim_states = env.observation_space.shape[0]\n",
    "dim_actions = env.action_space.shape[0] if continuous_control else env.action_space.n\n",
    "\n",
    "training_iterations = 1000\n",
    "min_batch_steps = 5000\n",
    "\n",
    "policy = Policy(dim_states=dim_states, dim_actions=dim_actions, continuous_control=continuous_control).to(device)\n",
    "\n",
    "agent = PolicyGradients(dim_states = dim_states, dim_actions = dim_actions, lr = 1e-3, gamma = .99, \n",
    "                        continuous_control = continuous_control)\n",
    "\n",
    "optimizer = torch.optim.Adam(params = policy.parameters(), lr = 1e-3)\n",
    "\n",
    "output = sample_rollouts(env, agent, training_iter=training_iterations, min_batch_steps=min_batch_steps)\n",
    "\n",
    "sampled_obs = [output[i][0] for i in range(len(output))]\n",
    "sampled_acs = [output[i][1] for i in range(len(output))]\n",
    "sampled_rew = [output[i][2] for i in range(len(output))]\n",
    "\n",
    "rewards = sampled_rew[0]\n",
    "gamma = 0.99\n",
    "\n",
    "estimated_returns = estimate_returns(sampled_rew)\n",
    "estimated_returns.shape"
   ]
  },
  {
   "cell_type": "code",
   "execution_count": 11,
   "metadata": {},
   "outputs": [
    {
     "data": {
      "text/plain": [
       "[2.9701, 1.99, 1.0]"
      ]
     },
     "execution_count": 11,
     "metadata": {},
     "output_type": "execute_result"
    }
   ],
   "source": [
    "from collections import deque\n",
    "\n",
    "rewards = [1, 1, 1]\n",
    "\n",
    "estimated_return = deque() # for efficiency\n",
    "n_steps = len(rewards) # steps of rollout\n",
    "\n",
    "for t in range(n_steps)[::-1]:\n",
    "    disc_return_t = estimated_return[0] if len(estimated_return) > 0 else 0\n",
    "    estimated_return.appendleft(disc_return_t * gamma + rewards[t]) # pi_t = pi_{t+1} + r_t\n",
    "    \n",
    "list(estimated_return)"
   ]
  },
  {
   "cell_type": "code",
   "execution_count": 12,
   "metadata": {},
   "outputs": [],
   "source": [
    "rollout_obs = np.concatenate(sampled_obs)\n",
    "rollout_acs = np.concatenate(sampled_acs)\n",
    "\n",
    "rollout_obs = torch.from_numpy(rollout_obs).to(device)\n",
    "rollout_acs = torch.from_numpy(rollout_acs).to(device)\n",
    "\n",
    "if continuous_control:\n",
    "    mean = policy(rollout_obs).to(device)\n",
    "    std = torch.exp(policy._log_std).to(device)\n",
    "    distr = Normal(mean, std) # 200 mean, 1 std\n",
    "else:\n",
    "    logits = policy(rollout_obs) #.cpu()\n",
    "    distr = Categorical(logits = logits)\n",
    "\n",
    "log_probs = distr.log_prob(rollout_acs) # return log_prob for each pair mean-action\n",
    "#log_probs = log_probs.squeeze()\n",
    "\n",
    "#loss =  - log_probs * torch.from_numpy(estimated_returns).to(device)\n",
    "\n",
    "#loss = loss.mean()\n",
    "\n",
    "#optimizer.zero_grad()\n",
    "#loss.backward()\n",
    "#optimizer.step()"
   ]
  },
  {
   "cell_type": "code",
   "execution_count": 15,
   "metadata": {},
   "outputs": [
    {
     "data": {
      "image/png": "[encoded data removed]",
      "text/plain": [
       "<Figure size 1200x300 with 2 Axes>"
      ]
     },
     "metadata": {},
     "output_type": "display_data"
    }
   ],
   "source": [
    "import gym\n",
    "from policy_gradients import PolicyGradients\n",
    "from train_agent import perform_single_rollout, sample_rollouts\n",
    "\n",
    "if __name__ == '__main__':\n",
    "    \n",
    "    environments = ['CartPole-v1', \n",
    "                    #'Pendulum-v1',\n",
    "                    ]\n",
    "    for environment in environments:\n",
    "        \n",
    "        for _ in range(10):\n",
    "        \n",
    "            env = gym.make(environment)\n",
    "            dim_states = env.observation_space.shape[0]\n",
    "            continuous_control = isinstance(env.action_space, gym.spaces.Box)\n",
    "            dim_actions = env.action_space.shape[0] if continuous_control else env.action_space.n\n",
    "            \n",
    "            policy_gradients_agent = PolicyGradients(dim_states=dim_states, \n",
    "                                                    dim_actions=dim_actions, \n",
    "                                                    continuous_control=continuous_control,\n",
    "                                                    lr = 5e-3,\n",
    "                                                    gamma = .99,\n",
    "                                                    )\n",
    "\n",
    "            # test for perform_single_rollout\n",
    "            single_rollout = perform_single_rollout(env = env, agent = policy_gradients_agent, episode_nb = 1)\n",
    "            \n",
    "            # test for sample_rollouts\n",
    "            sampled_rollouts = sample_rollouts(env = env, agent = policy_gradients_agent, training_iter = 1, min_batch_steps = 250)\n",
    "            sampled_rew = [sampled_rollouts[i][2] for i in range(len(sampled_rollouts))]\n",
    "            \n",
    "            # test for estimated_returns\n",
    "            #estimated_returns = policy_gradients_agent.estimate_returns(sampled_rew)\n",
    "            \n",
    "            if _ == 0:\n",
    "            \n",
    "                sampled_rew = [list(perform_single_rollout(env = env, agent = policy_gradients_agent, episode_nb = 1)[2]) for _ in range(2)]\n",
    "                returns = policy_gradients_agent.estimate_returns(sampled_rew)\n",
    "            \n",
    "                plot_test(sampled_rew, returns, environment = environment)\n",
    "            \n",
    "            # plot"
   ]
  },
  {
   "cell_type": "code",
   "execution_count": 14,
   "metadata": {},
   "outputs": [],
   "source": [
    "import matplotlib.pyplot as plt\n",
    "\n",
    "def plot_test(sampled_rew, returns, environment):\n",
    "    \n",
    "    fig, axes = plt.subplots(1, 2, figsize = (12, 3))\n",
    "\n",
    "    rewards = sampled_rew[0]\n",
    "    axes[0].plot([sum(rewards[:t]) for t in range(len(rewards))], label = 'Cumulative return')\n",
    "    axes[0].plot(returns[:len(sampled_rew[0])], label = 'Estimated return')\n",
    "    axes[0].set(xlabel = 'Steps', ylabel = 'Returns')\n",
    "    axes[0].legend()\n",
    "    \n",
    "    rewards = sampled_rew[1]\n",
    "    axes[1].plot([sum(rewards[:t]) for t in range(len(rewards))], label = 'Cumulative return')\n",
    "    axes[1].plot(returns[-len(sampled_rew[1]):], label = 'Estimated return')\n",
    "    axes[1].set(xlabel = 'Steps', ylabel = 'Returns')\n",
    "    axes[1].legend()\n",
    "    \n",
    "    plt.savefig(f'figures/test_experiments/returns_{environment}.pdf')\n",
    "    plt.show()\n",
    "    plt.close()"
   ]
  },
  {
   "cell_type": "code",
   "execution_count": 16,
   "metadata": {},
   "outputs": [
    {
     "data": {
      "text/plain": [
       "[array([1., 1., 1., 1., 1., 1., 1., 1., 1., 1.]),\n",
       " array([1., 1., 1., 1., 1., 1., 1., 1., 1., 1., 1., 1., 1., 1., 1.]),\n",
       " array([1., 1., 1., 1., 1., 1., 1., 1., 1., 1., 1., 1., 1., 1., 1., 1., 1.,\n",
       "        1., 1., 1., 1., 1., 1., 1.]),\n",
       " array([1., 1., 1., 1., 1., 1., 1., 1., 1., 1., 1., 1., 1., 1., 1., 1., 1.,\n",
       "        1., 1., 1., 1., 1., 1., 1., 1., 1., 1., 1., 1., 1., 1., 1., 1., 1.,\n",
       "        1., 1., 1., 1., 1., 1., 1., 1., 1.]),\n",
       " array([1., 1., 1., 1., 1., 1., 1., 1., 1., 1., 1., 1., 1., 1., 1., 1.]),\n",
       " array([1., 1., 1., 1., 1., 1., 1., 1., 1., 1., 1., 1., 1., 1., 1., 1.]),\n",
       " array([1., 1., 1., 1., 1., 1., 1., 1., 1., 1., 1., 1., 1., 1., 1.]),\n",
       " array([1., 1., 1., 1., 1., 1., 1., 1., 1., 1., 1., 1., 1., 1., 1., 1.]),\n",
       " array([1., 1., 1., 1., 1., 1., 1., 1., 1., 1., 1., 1., 1., 1., 1., 1., 1.,\n",
       "        1., 1., 1., 1.]),\n",
       " array([1., 1., 1., 1., 1., 1., 1., 1., 1., 1., 1., 1., 1., 1., 1., 1., 1.,\n",
       "        1., 1., 1., 1., 1., 1., 1., 1., 1., 1., 1., 1., 1., 1., 1., 1., 1.,\n",
       "        1., 1., 1., 1., 1., 1.]),\n",
       " array([1., 1., 1., 1., 1., 1., 1., 1., 1., 1., 1., 1., 1., 1., 1., 1., 1.,\n",
       "        1.]),\n",
       " array([1., 1., 1., 1., 1., 1., 1., 1., 1., 1., 1., 1., 1., 1., 1., 1., 1.,\n",
       "        1., 1., 1., 1., 1., 1., 1., 1.])]"
      ]
     },
     "execution_count": 16,
     "metadata": {},
     "output_type": "execute_result"
    }
   ],
   "source": [
    "sampled_rew"
   ]
  },
  {
   "cell_type": "code",
   "execution_count": 38,
   "metadata": {},
   "outputs": [
    {
     "data": {
      "text/plain": [
       "<matplotlib.legend.Legend at 0x7fd7e279f1f0>"
      ]
     },
     "execution_count": 38,
     "metadata": {},
     "output_type": "execute_result"
    },
    {
     "data": {
      "image/png": "[encoded data removed]",
      "text/plain": [
       "<Figure size 1200x300 with 2 Axes>"
      ]
     },
     "metadata": {},
     "output_type": "display_data"
    }
   ],
   "source": [
    "sampled_rew = [list(perform_single_rollout(env = env, agent = policy_gradients_agent, episode_nb = 1)[2]) for _ in range(2)]\n",
    "returns = policy_gradients_agent.estimate_returns(sampled_rew)\n",
    "\n",
    "import matplotlib.pyplot as plt\n",
    "\n",
    "fig, axes = plt.subplots(1, 2, figsize = (12, 3))\n",
    "\n",
    "#axes[0, 0].plot(sampled_rew[0])\n",
    "rewards = sampled_rew[0]\n",
    "axes[0].plot([sum(rewards[:t+1]) for t in range(len(rewards))], label = 'Cumulative return')\n",
    "axes[0].plot(returns[:len(sampled_rew[0])], label = 'Estimated return')\n",
    "#axes[0, 1].plot(returns[:len(sampled_rew[0])])\n",
    "axes[0].set(xlabel = 'Steps', ylabel = 'Returns')\n",
    "axes[0].legend()\n",
    "\n",
    "#axes[1].plot(sampled_rew[1], label = 'Return')\n",
    "rewards = sampled_rew[1]\n",
    "axes[1].plot([sum(rewards[:t+1]) for t in range(len(rewards))], label = 'Cumulative return')\n",
    "axes[1].plot(returns[-len(sampled_rew[1]):], label = 'Estimated return')\n",
    "axes[1].set(xlabel = 'Steps', ylabel = 'Returns')\n",
    "#axes[1, 1].plot(returns[-len(sampled_rew[1]):])\n",
    "#axes[1, 1].set(xlabel = 'Steps')\n",
    "axes[1].legend()\n",
    "\n",
    "#plt.legend()"
   ]
  },
  {
   "cell_type": "code",
   "execution_count": 30,
   "metadata": {},
   "outputs": [
    {
     "data": {
      "text/plain": [
       "[0, 1.0, 2.0, 3.0, 4.0, 5.0, 6.0, 7.0, 8.0, 9.0, 10.0, 11.0, 12.0]"
      ]
     },
     "execution_count": 30,
     "metadata": {},
     "output_type": "execute_result"
    }
   ],
   "source": [
    "[sum(sampled_rew[0][:t]) for t in range(len(sampled_rew[0]))]"
   ]
  },
  {
   "cell_type": "code",
   "execution_count": 37,
   "metadata": {},
   "outputs": [
    {
     "data": {
      "text/plain": [
       "[1.0, 2.0, 3.0, 4.0, 5.0, 6.0, 7.0, 8.0, 9.0, 10.0, 11.0, 12.0, 13.0]"
      ]
     },
     "execution_count": 37,
     "metadata": {},
     "output_type": "execute_result"
    }
   ],
   "source": [
    "[sum(sampled_rew[0][:t+1]) for t in range(len(sampled_rew[0]))]"
   ]
  },
  {
   "cell_type": "code",
   "execution_count": 36,
   "metadata": {},
   "outputs": [
    {
     "data": {
      "text/plain": [
       "[1.0, 1.0, 1.0, 1.0, 1.0, 1.0, 1.0, 1.0, 1.0, 1.0, 1.0, 1.0, 1.0]"
      ]
     },
     "execution_count": 36,
     "metadata": {},
     "output_type": "execute_result"
    }
   ],
   "source": [
    "[rew for rew in sampled_rew[0]]"
   ]
  },
  {
   "cell_type": "code",
   "execution_count": 26,
   "metadata": {},
   "outputs": [
    {
     "data": {
      "text/plain": [
       "13.0"
      ]
     },
     "execution_count": 26,
     "metadata": {},
     "output_type": "execute_result"
    }
   ],
   "source": [
    "sum([rew for rew in sampled_rew[0]])"
   ]
  },
  {
   "cell_type": "code",
   "execution_count": 24,
   "metadata": {},
   "outputs": [
    {
     "data": {
      "text/plain": [
       "12.247897700103202"
      ]
     },
     "execution_count": 24,
     "metadata": {},
     "output_type": "execute_result"
    }
   ],
   "source": [
    "sum([sampled_rew[0][t] * (0.99 ** t) for t in range(len(sampled_rew[0]))])"
   ]
  },
  {
   "cell_type": "code",
   "execution_count": 21,
   "metadata": {},
   "outputs": [
    {
     "data": {
      "text/plain": [
       "array([13.994164, 13.994164, 13.994164, 13.994164, 13.994164, 13.994164,\n",
       "       13.994164, 13.994164, 13.994164, 13.994164, 13.994164, 13.994164,\n",
       "       13.994164, 13.994164, 13.994164, 22.217865, 22.217865, 22.217865,\n",
       "       22.217865, 22.217865, 22.217865, 22.217865, 22.217865, 22.217865,\n",
       "       22.217865, 22.217865, 22.217865, 22.217865, 22.217865, 22.217865,\n",
       "       22.217865, 22.217865, 22.217865, 22.217865, 22.217865, 22.217865,\n",
       "       22.217865, 22.217865, 22.217865, 22.217865], dtype=float32)"
      ]
     },
     "execution_count": 21,
     "metadata": {},
     "output_type": "execute_result"
    }
   ],
   "source": [
    "returns"
   ]
  },
  {
   "cell_type": "code",
   "execution_count": null,
   "metadata": {},
   "outputs": [],
   "source": []
  }
 ],
 "metadata": {
  "kernelspec": {
   "display_name": "base",
   "language": "python",
   "name": "python3"
  },
  "language_info": {
   "codemirror_mode": {
    "name": "ipython",
    "version": 3
   },
   "file_extension": ".py",
   "mimetype": "text/x-python",
   "name": "python",
   "nbconvert_exporter": "python",
   "pygments_lexer": "ipython3",
   "version": "3.9.0"
  },
  "orig_nbformat": 4
 },
 "nbformat": 4,
 "nbformat_minor": 2
}
