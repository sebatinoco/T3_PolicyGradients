{
 "cells": [
  {
   "cell_type": "code",
   "execution_count": 1,
   "metadata": {},
   "outputs": [
    {
     "name": "stdout",
     "output_type": "stream",
     "text": [
      "using cuda:0!\n",
      "device: cuda:0\n"
     ]
    }
   ],
   "source": [
    "import gym \n",
    "import torch\n",
    "import torch.nn as nn\n",
    "import torch.nn.functional as F\n",
    "from torch.distributions import Categorical, Normal\n",
    "import time\n",
    "import numpy as np\n",
    "\n",
    "from policy_gradients import PolicyGradients, Policy\n",
    "\n",
    "device = torch.device(\"cuda:0\" if torch.cuda.is_available() else \"cpu\")\n",
    "print(f'device: {device}')\n",
    "\n",
    "#env = gym.make('Pendulum-v1')\n",
    "env = gym.make('CartPole-v1')\n",
    "\n",
    "continuous_control = isinstance(env.action_space, gym.spaces.Box)\n",
    "dim_states = env.observation_space.shape[0]\n",
    "dim_actions = env.action_space.shape[0] if continuous_control else env.action_space.n"
   ]
  },
  {
   "cell_type": "code",
   "execution_count": 4,
   "metadata": {},
   "outputs": [
    {
     "data": {
      "text/plain": [
       "(array([[ 0.02779721, -0.14562285,  0.00504603,  0.29509234],\n",
       "        [ 0.02488476,  0.04942679,  0.01094788,  0.00400512],\n",
       "        [ 0.02587329, -0.14585043,  0.01102798,  0.30012202],\n",
       "        [ 0.02295628, -0.34112784,  0.01703042,  0.59626245],\n",
       "        [ 0.01613373, -0.53648394,  0.02895567,  0.8942608 ],\n",
       "        [ 0.00540405, -0.73198634,  0.04684089,  1.1959033 ],\n",
       "        [-0.00923568, -0.53750104,  0.07075895,  0.91826147],\n",
       "        [-0.0199857 , -0.3434033 ,  0.08912418,  0.64862925],\n",
       "        [-0.02685376, -0.14962856,  0.10209677,  0.38528857],\n",
       "        [-0.02984633, -0.34604052,  0.10980254,  0.70833665],\n",
       "        [-0.03676715, -0.54249835,  0.12396927,  1.0334659 ],\n",
       "        [-0.04761711, -0.7390313 ,  0.14463858,  1.3623565 ],\n",
       "        [-0.06239774, -0.9356389 ,  0.17188573,  1.6965642 ],\n",
       "        [-0.08111051, -1.1322764 ,  0.205817  ,  2.0374599 ],\n",
       "        [-0.10375605, -0.93978417,  0.2465662 ,  1.8148994 ]],\n",
       "       dtype=float32),\n",
       " array([0, 1, 0, 0, 0, 0, 1, 1, 1, 0, 0, 0, 0, 0, 1]),\n",
       " array([1., 1., 1., 1., 1., 1., 1., 1., 1., 1., 1., 1., 1., 1., 1.]))"
      ]
     },
     "execution_count": 4,
     "metadata": {},
     "output_type": "execute_result"
    }
   ],
   "source": [
    "def perform_single_rollout(env, agent, episode_nb, render=False):\n",
    "\n",
    "    # Modify this function to return a tuple of numpy arrays containing (observations, actions, rewards).\n",
    "    # (np.array(obs), np.array(acs), np.array(rws))\n",
    "    # np.array(obs) -> shape: (time_steps, nb_obs)\n",
    "    # np.array(acs) -> shape: (time_steps, nb_acs) if actions are continuous, (time_steps,) if actions are discrete\n",
    "    # np.array(rws) -> shape: (time_steps,)\n",
    "\n",
    "    ob_t = env.reset()\n",
    "    \n",
    "    done = False\n",
    "    episode_reward = 0\n",
    "    nb_steps = 0\n",
    "    \n",
    "    obs, acs, rws = [], [], []\n",
    "\n",
    "    while not done:\n",
    "\n",
    "        if render:\n",
    "            env.render()\n",
    "            time.sleep(1. / 60)\n",
    "\n",
    "        action = agent.select_action(ob_t) # cambiar a que solo reciba la accion?\n",
    "\n",
    "        ob_t1, reward, done, _ = env.step(action)\n",
    "\n",
    "        ob_t = np.squeeze(ob_t1) # <-- may not be needed depending on gym version\n",
    "        episode_reward += reward\n",
    "        \n",
    "        nb_steps += 1\n",
    "\n",
    "        obs.append(ob_t)\n",
    "        acs.append(action)\n",
    "        rws.append(reward)\n",
    "\n",
    "        if done:\n",
    "            \n",
    "            obs = np.array(obs)\n",
    "            acs = np.array(acs)\n",
    "            rws = np.array(rws)\n",
    "            \n",
    "            assert obs.shape == (nb_steps, dim_states), 'shape of np.array(obs) is not (time_steps, nb_obs)'\n",
    "            if continuous_control:\n",
    "                assert acs.shape == (nb_steps, dim_actions), 'shape of np.array(acs) is not (time_steps, nb_acs)'\n",
    "            else:\n",
    "                assert acs.shape == (nb_steps,), 'shape of np.array(acs) is not (time_steps,)'\n",
    "            assert rws.shape == (nb_steps,), 'shape of np.array(rws) is not (time_steps,)'\n",
    "            \n",
    "            return obs, acs, rws\n",
    "        \n",
    "        \n",
    "#env = gym.make('Pendulum-v1')\n",
    "env = gym.make('CartPole-v1')\n",
    "continuous_control = isinstance(env.action_space, gym.spaces.Box)\n",
    "dim_states = env.observation_space.shape[0]\n",
    "dim_actions = env.action_space.shape[0] if continuous_control else env.action_space.n\n",
    "\n",
    "agent = PolicyGradients(dim_states = dim_states, dim_actions = dim_actions, lr = 1e-3, gamma = .99, \n",
    "                        continuous_control = continuous_control)\n",
    "\n",
    "perform_single_rollout(env, agent, 1)"
   ]
  },
  {
   "cell_type": "code",
   "execution_count": 5,
   "metadata": {},
   "outputs": [],
   "source": [
    "def sample_rollouts(env, agent, training_iter, min_batch_steps):\n",
    "\n",
    "    sampled_rollouts = []\n",
    "    total_nb_steps = 0\n",
    "    episode_nb = 0\n",
    "    \n",
    "    while total_nb_steps < min_batch_steps:\n",
    "\n",
    "        episode_nb += 1\n",
    "        #render = training_iter%10 == 0 and len(sampled_rollouts) == 0 # Change training_iter%10 to any number you want\n",
    "        render = False\n",
    "\n",
    "        # Use perform_single_rollout to get data \n",
    "        # Uncomment once perform_single_rollout works.\n",
    "        # Return sampled_rollouts\n",
    "        \n",
    "        \"\"\"\n",
    "        sample_rollout = perform_single_rollout(env, agent, episode_nb, render=render)\n",
    "        total_nb_steps += len(sample_rollout[0])\n",
    "\n",
    "        sampled_rollouts.append(sample_rollout)\n",
    "        \"\"\"\n",
    "        \n",
    "        sample_rollout = perform_single_rollout(env, agent, episode_nb, render=render)\n",
    "        total_nb_steps += len(sample_rollout[0])\n",
    "\n",
    "        sampled_rollouts.append(sample_rollout)\n",
    "        \n",
    "    return sampled_rollouts"
   ]
  },
  {
   "cell_type": "code",
   "execution_count": 6,
   "metadata": {},
   "outputs": [],
   "source": [
    "_use_reward_to_go = False\n",
    "_use_baseline = False\n",
    "_gamma = 0.99\n",
    "\n",
    "def estimate_returns(rollouts_rew):\n",
    "    estimated_returns = []\n",
    "    for rollout_rew in rollouts_rew:\n",
    "            \n",
    "        if _use_reward_to_go:\n",
    "            # only for part 2\n",
    "            estimated_return = None\n",
    "        else:\n",
    "            estimated_return = [rollout_rew[t] * (_gamma ** t) for t in range(len(rollout_rew))]\n",
    "        \n",
    "        estimated_returns = np.concatenate([estimated_returns, estimated_return])\n",
    "\n",
    "    if _use_baseline:\n",
    "        # only for part 2\n",
    "        average_return_baseline = None\n",
    "        # Use the baseline:\n",
    "        #estimated_returns -= average_return_baseline\n",
    "\n",
    "    return np.array(estimated_returns, dtype=np.float32)"
   ]
  },
  {
   "cell_type": "code",
   "execution_count": 7,
   "metadata": {},
   "outputs": [
    {
     "data": {
      "text/plain": [
       "(5016,)"
      ]
     },
     "execution_count": 7,
     "metadata": {},
     "output_type": "execute_result"
    }
   ],
   "source": [
    "#env = gym.make('Pendulum-v1')\n",
    "env = gym.make('CartPole-v1')\n",
    "continuous_control = isinstance(env.action_space, gym.spaces.Box)\n",
    "dim_states = env.observation_space.shape[0]\n",
    "dim_actions = env.action_space.shape[0] if continuous_control else env.action_space.n\n",
    "\n",
    "training_iterations = 1000\n",
    "min_batch_steps = 5000\n",
    "\n",
    "policy = Policy(dim_states=dim_states, dim_actions=dim_actions, continuous_control=continuous_control).to(device)\n",
    "\n",
    "agent = PolicyGradients(dim_states = dim_states, dim_actions = dim_actions, lr = 1e-3, gamma = .99, \n",
    "                        continuous_control = continuous_control)\n",
    "\n",
    "optimizer = torch.optim.Adam(params = policy.parameters(), lr = 1e-3)\n",
    "\n",
    "output = sample_rollouts(env, agent, training_iter=training_iterations, min_batch_steps=min_batch_steps)\n",
    "\n",
    "sampled_obs = [output[i][0] for i in range(len(output))]\n",
    "sampled_acs = [output[i][1] for i in range(len(output))]\n",
    "sampled_rew = [output[i][2] for i in range(len(output))]\n",
    "\n",
    "rewards = sampled_rew[0]\n",
    "gamma = 0.99\n",
    "\n",
    "estimated_returns = estimate_returns(sampled_rew)\n",
    "estimated_returns.shape"
   ]
  },
  {
   "cell_type": "code",
   "execution_count": null,
   "metadata": {},
   "outputs": [],
   "source": [
    "from collections import deque\n",
    "\n",
    "rewards = [1, 1, 1]\n",
    "\n",
    "estimated_return = deque() # for efficiency\n",
    "n_steps = len(rewards) # steps of rollout\n",
    "\n",
    "for t in range(n_steps)[::-1]:\n",
    "    disc_return_t = estimated_return[0] if len(estimated_return) > 0 else 0\n",
    "    estimated_return.appendleft(disc_return_t * gamma + rewards[t]) # pi_t = pi_{t+1} + r_t\n",
    "    \n",
    "list(estimated_return)"
   ]
  },
  {
   "cell_type": "code",
   "execution_count": 8,
   "metadata": {},
   "outputs": [],
   "source": [
    "rollout_obs = np.concatenate(sampled_obs)\n",
    "rollout_acs = np.concatenate(sampled_acs)\n",
    "\n",
    "rollout_obs = torch.from_numpy(rollout_obs).to(device)\n",
    "rollout_acs = torch.from_numpy(rollout_acs).to(device)\n",
    "\n",
    "if continuous_control:\n",
    "    mean = policy(rollout_obs).to(device)\n",
    "    std = torch.exp(policy._log_std).to(device)\n",
    "    distr = Normal(mean, std) # 200 mean, 1 std\n",
    "else:\n",
    "    logits = policy(rollout_obs) #.cpu()\n",
    "    distr = Categorical(logits = logits)\n",
    "\n",
    "log_probs = distr.log_prob(rollout_acs) # return log_prob for each pair mean-action\n",
    "#log_probs = log_probs.squeeze()\n",
    "\n",
    "#loss =  - log_probs * torch.from_numpy(estimated_returns).to(device)\n",
    "\n",
    "#loss = loss.mean()\n",
    "\n",
    "#optimizer.zero_grad()\n",
    "#loss.backward()\n",
    "#optimizer.step()"
   ]
  },
  {
   "cell_type": "code",
   "execution_count": 13,
   "metadata": {},
   "outputs": [
    {
     "data": {
      "image/png": "[encoded data removed]",
      "text/plain": [
       "<Figure size 1200x300 with 2 Axes>"
      ]
     },
     "metadata": {},
     "output_type": "display_data"
    }
   ],
   "source": [
    "import gym\n",
    "from policy_gradients import PolicyGradients\n",
    "from train_agent import perform_single_rollout, sample_rollouts\n",
    "\n",
    "if __name__ == '__main__':\n",
    "    \n",
    "    environments = ['CartPole-v1', \n",
    "                    #'Pendulum-v1',\n",
    "                    ]\n",
    "    for environment in environments:\n",
    "        \n",
    "        for _ in range(10):\n",
    "        \n",
    "            env = gym.make(environment)\n",
    "            dim_states = env.observation_space.shape[0]\n",
    "            continuous_control = isinstance(env.action_space, gym.spaces.Box)\n",
    "            dim_actions = env.action_space.shape[0] if continuous_control else env.action_space.n\n",
    "            \n",
    "            policy_gradients_agent = PolicyGradients(dim_states=dim_states, \n",
    "                                                    dim_actions=dim_actions, \n",
    "                                                    continuous_control=continuous_control,\n",
    "                                                    lr = 5e-3,\n",
    "                                                    gamma = .99,\n",
    "                                                    )\n",
    "\n",
    "            # test for perform_single_rollout\n",
    "            single_rollout = perform_single_rollout(env = env, agent = policy_gradients_agent, episode_nb = 1)\n",
    "            \n",
    "            # test for sample_rollouts\n",
    "            sampled_rollouts = sample_rollouts(env = env, agent = policy_gradients_agent, training_iter = 1, min_batch_steps = 250)\n",
    "            sampled_rew = [sampled_rollouts[i][2] for i in range(len(sampled_rollouts))]\n",
    "            \n",
    "            # test for estimated_returns\n",
    "            #estimated_returns = policy_gradients_agent.estimate_returns(sampled_rew)\n",
    "            \n",
    "            if _ == 0:\n",
    "            \n",
    "                sampled_rew = [list(perform_single_rollout(env = env, agent = policy_gradients_agent, episode_nb = 1)[2]) for _ in range(2)]\n",
    "                returns = policy_gradients_agent.estimate_returns(sampled_rew)\n",
    "            \n",
    "                plot_test(sampled_rew, returns, environment = environment)\n",
    "            \n",
    "            # plot"
   ]
  },
  {
   "cell_type": "code",
   "execution_count": 14,
   "metadata": {},
   "outputs": [],
   "source": [
    "import matplotlib.pyplot as plt\n",
    "\n",
    "def plot_test(sampled_rew, returns, environment):\n",
    "    \n",
    "    fig, axes = plt.subplots(1, 2, figsize = (12, 3))\n",
    "\n",
    "    rewards = sampled_rew[0]\n",
    "    axes[0].plot([sum(rewards[:t]) for t in range(len(rewards))], label = 'Cumulative return')\n",
    "    axes[0].plot(returns[:len(sampled_rew[0])], label = 'Estimated return')\n",
    "    axes[0].set(xlabel = 'Steps', ylabel = 'Returns')\n",
    "    axes[0].legend()\n",
    "    \n",
    "    rewards = sampled_rew[1]\n",
    "    axes[1].plot([sum(rewards[:t]) for t in range(len(rewards))], label = 'Cumulative return')\n",
    "    axes[1].plot(returns[-len(sampled_rew[1]):], label = 'Estimated return')\n",
    "    axes[1].set(xlabel = 'Steps', ylabel = 'Returns')\n",
    "    axes[1].legend()\n",
    "    \n",
    "    plt.savefig(f'figures/test_experiments/returns_{environment}.pdf')\n",
    "    plt.show()\n",
    "    plt.close()"
   ]
  },
  {
   "cell_type": "code",
   "execution_count": 15,
   "metadata": {},
   "outputs": [
    {
     "data": {
      "text/plain": [
       "[array([1., 1., 1., 1., 1., 1., 1., 1., 1., 1., 1., 1., 1., 1., 1., 1., 1.,\n",
       "        1., 1., 1., 1., 1., 1., 1., 1., 1.]),\n",
       " array([1., 1., 1., 1., 1., 1., 1., 1., 1., 1., 1., 1., 1., 1., 1., 1., 1.,\n",
       "        1., 1., 1., 1., 1., 1., 1., 1., 1., 1., 1., 1., 1., 1., 1., 1., 1.,\n",
       "        1., 1., 1., 1., 1., 1., 1., 1., 1., 1., 1., 1., 1., 1., 1., 1., 1.,\n",
       "        1., 1., 1., 1., 1., 1., 1., 1., 1., 1., 1., 1., 1., 1., 1., 1., 1.,\n",
       "        1., 1., 1., 1., 1., 1., 1., 1., 1., 1., 1., 1., 1., 1., 1., 1., 1.,\n",
       "        1., 1., 1., 1., 1., 1., 1., 1., 1., 1., 1., 1., 1., 1., 1., 1.]),\n",
       " array([1., 1., 1., 1., 1., 1., 1., 1., 1., 1., 1., 1., 1., 1., 1., 1., 1.,\n",
       "        1., 1., 1., 1., 1., 1., 1., 1., 1., 1., 1., 1., 1.]),\n",
       " array([1., 1., 1., 1., 1., 1., 1., 1., 1., 1., 1., 1., 1., 1., 1., 1., 1.,\n",
       "        1., 1., 1., 1., 1., 1., 1., 1.]),\n",
       " array([1., 1., 1., 1., 1., 1., 1., 1., 1., 1., 1., 1., 1., 1., 1., 1., 1.]),\n",
       " array([1., 1., 1., 1., 1., 1., 1., 1., 1., 1., 1., 1.]),\n",
       " array([1., 1., 1., 1., 1., 1., 1., 1., 1., 1., 1., 1., 1., 1., 1., 1., 1.,\n",
       "        1., 1., 1., 1., 1., 1., 1., 1., 1., 1., 1., 1., 1., 1.]),\n",
       " array([1., 1., 1., 1., 1., 1., 1., 1., 1., 1., 1., 1., 1.])]"
      ]
     },
     "execution_count": 15,
     "metadata": {},
     "output_type": "execute_result"
    }
   ],
   "source": [
    "sampled_rew"
   ]
  },
  {
   "cell_type": "code",
   "execution_count": 20,
   "metadata": {},
   "outputs": [
    {
     "data": {
      "text/plain": [
       "<matplotlib.legend.Legend at 0x7f42c215dd30>"
      ]
     },
     "execution_count": 20,
     "metadata": {},
     "output_type": "execute_result"
    },
    {
     "data": {
      "image/png": "[encoded data removed]",
      "text/plain": [
       "<Figure size 1200x300 with 2 Axes>"
      ]
     },
     "metadata": {},
     "output_type": "display_data"
    }
   ],
   "source": [
    "sampled_rew = [list(perform_single_rollout(env = env, agent = policy_gradients_agent, episode_nb = 1)[2]) for _ in range(2)]\n",
    "returns = policy_gradients_agent.estimate_returns(sampled_rew)\n",
    "\n",
    "import matplotlib.pyplot as plt\n",
    "\n",
    "fig, axes = plt.subplots(1, 2, figsize = (12, 3))\n",
    "\n",
    "#axes[0, 0].plot(sampled_rew[0])\n",
    "rewards = sampled_rew[0]\n",
    "axes[0].plot([sum(rewards[:t]) for t in range(len(rewards))], label = 'Cumulative return')\n",
    "axes[0].plot(returns[:len(sampled_rew[0])], label = 'Estimated return')\n",
    "#axes[0, 1].plot(returns[:len(sampled_rew[0])])\n",
    "axes[0].set(xlabel = 'Steps', ylabel = 'Returns')\n",
    "axes[0].legend()\n",
    "\n",
    "#axes[1].plot(sampled_rew[1], label = 'Return')\n",
    "rewards = sampled_rew[1]\n",
    "axes[1].plot([sum(rewards[:t]) for t in range(len(rewards))], label = 'Cumulative return')\n",
    "axes[1].plot(returns[-len(sampled_rew[1]):], label = 'Estimated return')\n",
    "axes[1].set(xlabel = 'Steps', ylabel = 'Returns')\n",
    "#axes[1, 1].plot(returns[-len(sampled_rew[1]):])\n",
    "#axes[1, 1].set(xlabel = 'Steps')\n",
    "axes[1].legend()\n",
    "\n",
    "#plt.legend()"
   ]
  },
  {
   "cell_type": "code",
   "execution_count": 32,
   "metadata": {},
   "outputs": [
    {
     "data": {
      "text/plain": [
       "13.994164535871148"
      ]
     },
     "execution_count": 32,
     "metadata": {},
     "output_type": "execute_result"
    }
   ],
   "source": [
    "sum([sampled_rew[0][t] * (0.99 ** t) for t in range(len(sampled_rew[0]))])"
   ]
  },
  {
   "cell_type": "code",
   "execution_count": 21,
   "metadata": {},
   "outputs": [
    {
     "data": {
      "text/plain": [
       "array([13.994164, 13.994164, 13.994164, 13.994164, 13.994164, 13.994164,\n",
       "       13.994164, 13.994164, 13.994164, 13.994164, 13.994164, 13.994164,\n",
       "       13.994164, 13.994164, 13.994164, 22.217865, 22.217865, 22.217865,\n",
       "       22.217865, 22.217865, 22.217865, 22.217865, 22.217865, 22.217865,\n",
       "       22.217865, 22.217865, 22.217865, 22.217865, 22.217865, 22.217865,\n",
       "       22.217865, 22.217865, 22.217865, 22.217865, 22.217865, 22.217865,\n",
       "       22.217865, 22.217865, 22.217865, 22.217865], dtype=float32)"
      ]
     },
     "execution_count": 21,
     "metadata": {},
     "output_type": "execute_result"
    }
   ],
   "source": [
    "returns"
   ]
  },
  {
   "cell_type": "code",
   "execution_count": null,
   "metadata": {},
   "outputs": [],
   "source": []
  }
 ],
 "metadata": {
  "kernelspec": {
   "display_name": "base",
   "language": "python",
   "name": "python3"
  },
  "language_info": {
   "codemirror_mode": {
    "name": "ipython",
    "version": 3
   },
   "file_extension": ".py",
   "mimetype": "text/x-python",
   "name": "python",
   "nbconvert_exporter": "python",
   "pygments_lexer": "ipython3",
   "version": "3.9.0"
  },
  "orig_nbformat": 4
 },
 "nbformat": 4,
 "nbformat_minor": 2
}
